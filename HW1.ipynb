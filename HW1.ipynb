{
 "cells": [
  {
   "cell_type": "markdown",
   "id": "27b5172f-fae6-43f6-96c1-1bb94e096211",
   "metadata": {},
   "source": [
    "This is my first jupyter notebook"
   ]
  },
  {
   "cell_type": "code",
   "execution_count": 2,
   "id": "24515683-840d-46ff-b580-837b1647c373",
   "metadata": {},
   "outputs": [
    {
     "name": "stdout",
     "output_type": "stream",
     "text": [
      "My name is Amy Hunt.\n"
     ]
    }
   ],
   "source": [
    "print(\"My name is Amy Hunt.\")"
   ]
  }
 ],
 "metadata": {
  "kernelspec": {
   "display_name": "Python 3 (ipykernel)",
   "language": "python",
   "name": "python3"
  },
  "language_info": {
   "codemirror_mode": {
    "name": "ipython",
    "version": 3
   },
   "file_extension": ".py",
   "mimetype": "text/x-python",
   "name": "python",
   "nbconvert_exporter": "python",
   "pygments_lexer": "ipython3",
   "version": "3.13.7"
  }
 },
 "nbformat": 4,
 "nbformat_minor": 5
}
