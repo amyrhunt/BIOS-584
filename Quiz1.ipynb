{
 "cells": [
  {
   "cell_type": "markdown",
   "id": "0dfa8efc-858a-4abe-a47a-130130bd2860",
   "metadata": {},
   "source": [
    "Amy Hunt"
   ]
  },
  {
   "cell_type": "code",
   "execution_count": 1,
   "id": "3845f6c6-7501-4ce3-9f1c-c23fefc3422b",
   "metadata": {},
   "outputs": [
    {
     "name": "stdout",
     "output_type": "stream",
     "text": [
      "['cat1', 'cat1', 'cat1']\n"
     ]
    }
   ],
   "source": [
    "#create new list including cat variables for quiz analysis\n",
    "\n",
    "new_cat_list = ['cat1', 'cat1', 'cat1']\n",
    "print(new_cat_list)"
   ]
  },
  {
   "cell_type": "code",
   "execution_count": 3,
   "id": "5f94408e-b4f3-4f1b-b2ee-15ce719bb788",
   "metadata": {},
   "outputs": [
    {
     "name": "stdout",
     "output_type": "stream",
     "text": [
      "['cat1', 'cat1', 'cat1', 'cat2']\n"
     ]
    }
   ],
   "source": [
    "#question 1: using apend function to add 'cat 2'\n",
    "\n",
    "new_cat_list.append('cat2')\n",
    "print(new_cat_list)"
   ]
  },
  {
   "cell_type": "code",
   "execution_count": 9,
   "id": "603eda4a-7768-4909-b8fd-6ac17bd31ade",
   "metadata": {},
   "outputs": [
    {
     "name": "stdout",
     "output_type": "stream",
     "text": [
      "None\n"
     ]
    }
   ],
   "source": [
    "#question 2: use clear function\n",
    "\n",
    "new_cat_list2 = ['cat1', 'cat1', 'cat1']\n",
    "print(new_cat_list2.clear())"
   ]
  },
  {
   "cell_type": "code",
   "execution_count": 10,
   "id": "c920b449-36ae-4764-856b-2fa2298c9bd5",
   "metadata": {},
   "outputs": [
    {
     "name": "stdout",
     "output_type": "stream",
     "text": [
      "['cat1', 'cat1', 'cat1']\n"
     ]
    }
   ],
   "source": [
    "#question 3: use copy function\n",
    "\n",
    "new_cat_list3 = ['cat1', 'cat1', 'cat1']\n",
    "new_cat_list3.copy()\n",
    "print(new_cat_list3.copy())"
   ]
  },
  {
   "cell_type": "code",
   "execution_count": 7,
   "id": "db99977b-3137-42cc-8e1d-c46468deacc0",
   "metadata": {},
   "outputs": [
    {
     "name": "stdout",
     "output_type": "stream",
     "text": [
      "1\n"
     ]
    }
   ],
   "source": [
    "#question 4: use count function to count how many of one variable exist in the list\n",
    "\n",
    "new_cat_list4 = ['cat1', 'cat1', 'cat2']\n",
    "new_cat_list4.count('cat2')\n",
    "print(new_cat_list4.count(\"cat2\"))"
   ]
  },
  {
   "cell_type": "code",
   "execution_count": 11,
   "id": "462a49fb-a580-4eaa-b9b3-61ee2cf540ee",
   "metadata": {},
   "outputs": [
    {
     "name": "stdout",
     "output_type": "stream",
     "text": [
      "2\n"
     ]
    }
   ],
   "source": [
    "#question 5: use index function to find the position of the first of one variable in the list\n",
    "\n",
    "new_cat_list5 = ['cat1', 'cat1', 'cat2']\n",
    "new_cat_list5.index('cat2')\n",
    "print(new_cat_list5.index('cat2'))"
   ]
  },
  {
   "cell_type": "code",
   "execution_count": 19,
   "id": "ae7cce60-8c95-42e3-97dd-8b049d460eb3",
   "metadata": {},
   "outputs": [
    {
     "name": "stdout",
     "output_type": "stream",
     "text": [
      "['cat1', 'cat2', 'cat1', 'cat2']\n"
     ]
    }
   ],
   "source": [
    "#question 6: use insert function to put new variable in specific location in the list\n",
    "\n",
    "new_cat_list6 = ['cat1', 'cat1', 'cat2']\n",
    "new_cat_list6.insert(1, 'cat2')\n",
    "#inserting the 'cat2' variable into the first position in the list, meaning it would appear second\n",
    "print(new_cat_list6)"
   ]
  },
  {
   "cell_type": "code",
   "execution_count": 21,
   "id": "cb1edb5b-1a08-4668-bb74-a2e36ea0eb51",
   "metadata": {},
   "outputs": [
    {
     "name": "stdout",
     "output_type": "stream",
     "text": [
      "['cat1', 'cat1']\n"
     ]
    }
   ],
   "source": [
    "#question 7: use the pop function to remove and return a variable\n",
    "\n",
    "new_cat_list7 = ['cat1', 'cat1', 'cat2']\n",
    "new_cat_list7.pop(2)\n",
    "print(new_cat_list7)"
   ]
  },
  {
   "cell_type": "code",
   "execution_count": 22,
   "id": "f2d3ec85-f3da-466e-9e70-3d8a87e1bb88",
   "metadata": {},
   "outputs": [
    {
     "name": "stdout",
     "output_type": "stream",
     "text": [
      "['cat1', 'cat1']\n"
     ]
    }
   ],
   "source": [
    "#question 8: use the remove function to remove a variable\n",
    "\n",
    "new_cat_list8 = ['cat1', 'cat1', 'cat2']\n",
    "new_cat_list8.remove('cat2')\n",
    "print(new_cat_list8)"
   ]
  },
  {
   "cell_type": "code",
   "execution_count": 23,
   "id": "301c1c55-f8a8-4d10-8f50-a9ef7bae0197",
   "metadata": {},
   "outputs": [
    {
     "name": "stdout",
     "output_type": "stream",
     "text": [
      "['cat2', 'cat1', 'cat1']\n"
     ]
    }
   ],
   "source": [
    "#question 9: use reverse function to reverse the order of variables in the list\n",
    "new_cat_list9 = ['cat1', 'cat1', 'cat2']\n",
    "new_cat_list9.reverse()\n",
    "print(new_cat_list9)"
   ]
  }
 ],
 "metadata": {
  "kernelspec": {
   "display_name": "Python 3 (ipykernel)",
   "language": "python",
   "name": "python3"
  },
  "language_info": {
   "codemirror_mode": {
    "name": "ipython",
    "version": 3
   },
   "file_extension": ".py",
   "mimetype": "text/x-python",
   "name": "python",
   "nbconvert_exporter": "python",
   "pygments_lexer": "ipython3",
   "version": "3.13.7"
  }
 },
 "nbformat": 4,
 "nbformat_minor": 5
}
